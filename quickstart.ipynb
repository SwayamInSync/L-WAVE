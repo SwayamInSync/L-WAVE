{
  "nbformat": 4,
  "nbformat_minor": 0,
  "metadata": {
    "colab": {
      "provenance": [],
      "gpuType": "T4"
    },
    "kernelspec": {
      "name": "python3",
      "display_name": "Python 3"
    },
    "language_info": {
      "name": "python"
    },
    "accelerator": "GPU"
  },
  "cells": [
    {
      "cell_type": "code",
      "execution_count": null,
      "metadata": {
        "id": "Z5KDzB1Y2gTe"
      },
      "outputs": [],
      "source": [
        "!git clone https://github.com/SwayamInSync/S.E.A.R.C.H.git"
      ]
    },
    {
      "cell_type": "code",
      "source": [
        "import os\n",
        "os.chdir(\"/content/S.E.A.R.C.H\")"
      ],
      "metadata": {
        "id": "p2uqfNE42vdR"
      },
      "execution_count": 3,
      "outputs": []
    },
    {
      "cell_type": "code",
      "source": [
        "!pip install -r requirements.txt"
      ],
      "metadata": {
        "id": "mQ3xquhO3AQA"
      },
      "execution_count": null,
      "outputs": []
    },
    {
      "cell_type": "code",
      "source": [
        "%env SERP_API=<API>\n",
        "%env COHERE_API=<API>"
      ],
      "metadata": {
        "id": "EcFG00Ic72dQ"
      },
      "execution_count": null,
      "outputs": []
    },
    {
      "cell_type": "code",
      "source": [
        "!python app.py --retriver_top_k 25 --reranker_top_k 10 --node_chunk_size 8000"
      ],
      "metadata": {
        "id": "mk7E9XbXRxVb"
      },
      "execution_count": null,
      "outputs": []
    }
  ]
}